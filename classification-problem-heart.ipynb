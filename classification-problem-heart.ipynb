{
 "cells": [
  {
   "cell_type": "code",
   "execution_count": 1,
   "id": "7872978f",
   "metadata": {
    "_cell_guid": "b1076dfc-b9ad-4769-8c92-a6c4dae69d19",
    "_uuid": "",
    "execution": {
     "iopub.execute_input": "2022-08-26T18:17:53.811981Z",
     "iopub.status.busy": "2022-08-26T18:17:53.811496Z",
     "iopub.status.idle": "2022-08-26T18:17:55.149169Z",
     "shell.execute_reply": "2022-08-26T18:17:55.148083Z"
    },
    "papermill": {
     "duration": 1.347038,
     "end_time": "2022-08-26T18:17:55.151991",
     "exception": false,
     "start_time": "2022-08-26T18:17:53.804953",
     "status": "completed"
    },
    "tags": []
   },
   "outputs": [],
   "source": [
    "# Import\n",
    "\n",
    "import numpy as np # linear algebra\n",
    "import pandas as pd # data processing, CSV file I/O (e.g. pd.read_csv)\n",
    "from sklearn.model_selection import train_test_split\n",
    "from sklearn import preprocessing\n",
    "\n",
    "from sklearn.neighbors import KNeighborsClassifier\n",
    "from sklearn import metrics\n",
    "\n",
    "from sklearn.linear_model import LogisticRegression\n",
    "from sklearn.metrics import confusion_matrix\n",
    "import matplotlib.pyplot as plt\n",
    "import itertools\n",
    "\n",
    "from sklearn import svm"
   ]
  },
  {
   "cell_type": "code",
   "execution_count": 2,
   "id": "8b8b55f6",
   "metadata": {
    "execution": {
     "iopub.execute_input": "2022-08-26T18:17:55.161723Z",
     "iopub.status.busy": "2022-08-26T18:17:55.161000Z",
     "iopub.status.idle": "2022-08-26T18:17:55.193827Z",
     "shell.execute_reply": "2022-08-26T18:17:55.192661Z"
    },
    "papermill": {
     "duration": 0.040079,
     "end_time": "2022-08-26T18:17:55.196188",
     "exception": false,
     "start_time": "2022-08-26T18:17:55.156109",
     "status": "completed"
    },
    "tags": []
   },
   "outputs": [
    {
     "data": {
      "text/plain": [
       "age         1\n",
       "sex         1\n",
       "cp          1\n",
       "trtbps      1\n",
       "chol        1\n",
       "fbs         1\n",
       "restecg     1\n",
       "thalachh    1\n",
       "exng        1\n",
       "oldpeak     1\n",
       "slp         1\n",
       "caa         1\n",
       "thall       1\n",
       "output      1\n",
       "dtype: int64"
      ]
     },
     "execution_count": 2,
     "metadata": {},
     "output_type": "execute_result"
    }
   ],
   "source": [
    "heart = pd.read_csv('../input/heart-attack-analysis-prediction-dataset/heart.csv')\n",
    "# checking if there is a missing value\n",
    "heart.isnull().nunique()"
   ]
  },
  {
   "cell_type": "code",
   "execution_count": 3,
   "id": "99a225a4",
   "metadata": {
    "execution": {
     "iopub.execute_input": "2022-08-26T18:17:55.206380Z",
     "iopub.status.busy": "2022-08-26T18:17:55.205597Z",
     "iopub.status.idle": "2022-08-26T18:17:55.214036Z",
     "shell.execute_reply": "2022-08-26T18:17:55.212861Z"
    },
    "papermill": {
     "duration": 0.016056,
     "end_time": "2022-08-26T18:17:55.216421",
     "exception": false,
     "start_time": "2022-08-26T18:17:55.200365",
     "status": "completed"
    },
    "tags": []
   },
   "outputs": [
    {
     "data": {
      "text/plain": [
       "age           int64\n",
       "sex           int64\n",
       "cp            int64\n",
       "trtbps        int64\n",
       "chol          int64\n",
       "fbs           int64\n",
       "restecg       int64\n",
       "thalachh      int64\n",
       "exng          int64\n",
       "oldpeak     float64\n",
       "slp           int64\n",
       "caa           int64\n",
       "thall         int64\n",
       "output        int64\n",
       "dtype: object"
      ]
     },
     "execution_count": 3,
     "metadata": {},
     "output_type": "execute_result"
    }
   ],
   "source": [
    "# checking value type of columns\n",
    "heart.dtypes"
   ]
  },
  {
   "cell_type": "code",
   "execution_count": 4,
   "id": "b97f20e5",
   "metadata": {
    "execution": {
     "iopub.execute_input": "2022-08-26T18:17:55.227002Z",
     "iopub.status.busy": "2022-08-26T18:17:55.226260Z",
     "iopub.status.idle": "2022-08-26T18:17:55.287934Z",
     "shell.execute_reply": "2022-08-26T18:17:55.286813Z"
    },
    "papermill": {
     "duration": 0.069711,
     "end_time": "2022-08-26T18:17:55.290499",
     "exception": false,
     "start_time": "2022-08-26T18:17:55.220788",
     "status": "completed"
    },
    "tags": []
   },
   "outputs": [
    {
     "data": {
      "text/html": [
       "<div>\n",
       "<style scoped>\n",
       "    .dataframe tbody tr th:only-of-type {\n",
       "        vertical-align: middle;\n",
       "    }\n",
       "\n",
       "    .dataframe tbody tr th {\n",
       "        vertical-align: top;\n",
       "    }\n",
       "\n",
       "    .dataframe thead th {\n",
       "        text-align: right;\n",
       "    }\n",
       "</style>\n",
       "<table border=\"1\" class=\"dataframe\">\n",
       "  <thead>\n",
       "    <tr style=\"text-align: right;\">\n",
       "      <th></th>\n",
       "      <th>age</th>\n",
       "      <th>sex</th>\n",
       "      <th>cp</th>\n",
       "      <th>trtbps</th>\n",
       "      <th>chol</th>\n",
       "      <th>fbs</th>\n",
       "      <th>restecg</th>\n",
       "      <th>thalachh</th>\n",
       "      <th>exng</th>\n",
       "      <th>oldpeak</th>\n",
       "      <th>slp</th>\n",
       "      <th>caa</th>\n",
       "      <th>thall</th>\n",
       "      <th>output</th>\n",
       "    </tr>\n",
       "  </thead>\n",
       "  <tbody>\n",
       "    <tr>\n",
       "      <th>count</th>\n",
       "      <td>303.000000</td>\n",
       "      <td>303.000000</td>\n",
       "      <td>303.000000</td>\n",
       "      <td>303.000000</td>\n",
       "      <td>303.000000</td>\n",
       "      <td>303.000000</td>\n",
       "      <td>303.000000</td>\n",
       "      <td>303.000000</td>\n",
       "      <td>303.000000</td>\n",
       "      <td>303.000000</td>\n",
       "      <td>303.000000</td>\n",
       "      <td>303.000000</td>\n",
       "      <td>303.000000</td>\n",
       "      <td>303.000000</td>\n",
       "    </tr>\n",
       "    <tr>\n",
       "      <th>mean</th>\n",
       "      <td>54.366337</td>\n",
       "      <td>0.683168</td>\n",
       "      <td>0.966997</td>\n",
       "      <td>131.623762</td>\n",
       "      <td>246.264026</td>\n",
       "      <td>0.148515</td>\n",
       "      <td>0.528053</td>\n",
       "      <td>149.646865</td>\n",
       "      <td>0.326733</td>\n",
       "      <td>1.039604</td>\n",
       "      <td>1.399340</td>\n",
       "      <td>0.729373</td>\n",
       "      <td>2.313531</td>\n",
       "      <td>0.544554</td>\n",
       "    </tr>\n",
       "    <tr>\n",
       "      <th>std</th>\n",
       "      <td>9.082101</td>\n",
       "      <td>0.466011</td>\n",
       "      <td>1.032052</td>\n",
       "      <td>17.538143</td>\n",
       "      <td>51.830751</td>\n",
       "      <td>0.356198</td>\n",
       "      <td>0.525860</td>\n",
       "      <td>22.905161</td>\n",
       "      <td>0.469794</td>\n",
       "      <td>1.161075</td>\n",
       "      <td>0.616226</td>\n",
       "      <td>1.022606</td>\n",
       "      <td>0.612277</td>\n",
       "      <td>0.498835</td>\n",
       "    </tr>\n",
       "    <tr>\n",
       "      <th>min</th>\n",
       "      <td>29.000000</td>\n",
       "      <td>0.000000</td>\n",
       "      <td>0.000000</td>\n",
       "      <td>94.000000</td>\n",
       "      <td>126.000000</td>\n",
       "      <td>0.000000</td>\n",
       "      <td>0.000000</td>\n",
       "      <td>71.000000</td>\n",
       "      <td>0.000000</td>\n",
       "      <td>0.000000</td>\n",
       "      <td>0.000000</td>\n",
       "      <td>0.000000</td>\n",
       "      <td>0.000000</td>\n",
       "      <td>0.000000</td>\n",
       "    </tr>\n",
       "    <tr>\n",
       "      <th>25%</th>\n",
       "      <td>47.500000</td>\n",
       "      <td>0.000000</td>\n",
       "      <td>0.000000</td>\n",
       "      <td>120.000000</td>\n",
       "      <td>211.000000</td>\n",
       "      <td>0.000000</td>\n",
       "      <td>0.000000</td>\n",
       "      <td>133.500000</td>\n",
       "      <td>0.000000</td>\n",
       "      <td>0.000000</td>\n",
       "      <td>1.000000</td>\n",
       "      <td>0.000000</td>\n",
       "      <td>2.000000</td>\n",
       "      <td>0.000000</td>\n",
       "    </tr>\n",
       "    <tr>\n",
       "      <th>50%</th>\n",
       "      <td>55.000000</td>\n",
       "      <td>1.000000</td>\n",
       "      <td>1.000000</td>\n",
       "      <td>130.000000</td>\n",
       "      <td>240.000000</td>\n",
       "      <td>0.000000</td>\n",
       "      <td>1.000000</td>\n",
       "      <td>153.000000</td>\n",
       "      <td>0.000000</td>\n",
       "      <td>0.800000</td>\n",
       "      <td>1.000000</td>\n",
       "      <td>0.000000</td>\n",
       "      <td>2.000000</td>\n",
       "      <td>1.000000</td>\n",
       "    </tr>\n",
       "    <tr>\n",
       "      <th>75%</th>\n",
       "      <td>61.000000</td>\n",
       "      <td>1.000000</td>\n",
       "      <td>2.000000</td>\n",
       "      <td>140.000000</td>\n",
       "      <td>274.500000</td>\n",
       "      <td>0.000000</td>\n",
       "      <td>1.000000</td>\n",
       "      <td>166.000000</td>\n",
       "      <td>1.000000</td>\n",
       "      <td>1.600000</td>\n",
       "      <td>2.000000</td>\n",
       "      <td>1.000000</td>\n",
       "      <td>3.000000</td>\n",
       "      <td>1.000000</td>\n",
       "    </tr>\n",
       "    <tr>\n",
       "      <th>max</th>\n",
       "      <td>77.000000</td>\n",
       "      <td>1.000000</td>\n",
       "      <td>3.000000</td>\n",
       "      <td>200.000000</td>\n",
       "      <td>564.000000</td>\n",
       "      <td>1.000000</td>\n",
       "      <td>2.000000</td>\n",
       "      <td>202.000000</td>\n",
       "      <td>1.000000</td>\n",
       "      <td>6.200000</td>\n",
       "      <td>2.000000</td>\n",
       "      <td>4.000000</td>\n",
       "      <td>3.000000</td>\n",
       "      <td>1.000000</td>\n",
       "    </tr>\n",
       "  </tbody>\n",
       "</table>\n",
       "</div>"
      ],
      "text/plain": [
       "              age         sex          cp      trtbps        chol         fbs  \\\n",
       "count  303.000000  303.000000  303.000000  303.000000  303.000000  303.000000   \n",
       "mean    54.366337    0.683168    0.966997  131.623762  246.264026    0.148515   \n",
       "std      9.082101    0.466011    1.032052   17.538143   51.830751    0.356198   \n",
       "min     29.000000    0.000000    0.000000   94.000000  126.000000    0.000000   \n",
       "25%     47.500000    0.000000    0.000000  120.000000  211.000000    0.000000   \n",
       "50%     55.000000    1.000000    1.000000  130.000000  240.000000    0.000000   \n",
       "75%     61.000000    1.000000    2.000000  140.000000  274.500000    0.000000   \n",
       "max     77.000000    1.000000    3.000000  200.000000  564.000000    1.000000   \n",
       "\n",
       "          restecg    thalachh        exng     oldpeak         slp         caa  \\\n",
       "count  303.000000  303.000000  303.000000  303.000000  303.000000  303.000000   \n",
       "mean     0.528053  149.646865    0.326733    1.039604    1.399340    0.729373   \n",
       "std      0.525860   22.905161    0.469794    1.161075    0.616226    1.022606   \n",
       "min      0.000000   71.000000    0.000000    0.000000    0.000000    0.000000   \n",
       "25%      0.000000  133.500000    0.000000    0.000000    1.000000    0.000000   \n",
       "50%      1.000000  153.000000    0.000000    0.800000    1.000000    0.000000   \n",
       "75%      1.000000  166.000000    1.000000    1.600000    2.000000    1.000000   \n",
       "max      2.000000  202.000000    1.000000    6.200000    2.000000    4.000000   \n",
       "\n",
       "            thall      output  \n",
       "count  303.000000  303.000000  \n",
       "mean     2.313531    0.544554  \n",
       "std      0.612277    0.498835  \n",
       "min      0.000000    0.000000  \n",
       "25%      2.000000    0.000000  \n",
       "50%      2.000000    1.000000  \n",
       "75%      3.000000    1.000000  \n",
       "max      3.000000    1.000000  "
      ]
     },
     "execution_count": 4,
     "metadata": {},
     "output_type": "execute_result"
    }
   ],
   "source": [
    "heart.describe()"
   ]
  },
  {
   "cell_type": "code",
   "execution_count": 5,
   "id": "62d4b2a1",
   "metadata": {
    "execution": {
     "iopub.execute_input": "2022-08-26T18:17:55.301212Z",
     "iopub.status.busy": "2022-08-26T18:17:55.300834Z",
     "iopub.status.idle": "2022-08-26T18:17:55.313898Z",
     "shell.execute_reply": "2022-08-26T18:17:55.312380Z"
    },
    "papermill": {
     "duration": 0.021169,
     "end_time": "2022-08-26T18:17:55.316327",
     "exception": false,
     "start_time": "2022-08-26T18:17:55.295158",
     "status": "completed"
    },
    "tags": []
   },
   "outputs": [
    {
     "name": "stdout",
     "output_type": "stream",
     "text": [
      "(303, 5)\n",
      "(303, 1)\n"
     ]
    }
   ],
   "source": [
    "# it seems cp, rest_ecg, exang and thalach are related to output and may cause data leakage\n",
    "# it seems caa and oldpeak have around 1 std causes very low deviation from mean\n",
    "\n",
    "# defining X and Y\n",
    "X = heart[['age','sex','chol','fbs','trtbps']]\n",
    "Y = heart[['output']]\n",
    "\n",
    "\n",
    "# it seems there is a lot of difference between X columns\n",
    "X = preprocessing.StandardScaler().fit(X).transform(X)\n",
    "print(X.shape)\n",
    "print(Y.shape)"
   ]
  },
  {
   "cell_type": "code",
   "execution_count": 6,
   "id": "69bdd0b3",
   "metadata": {
    "execution": {
     "iopub.execute_input": "2022-08-26T18:17:55.327406Z",
     "iopub.status.busy": "2022-08-26T18:17:55.327016Z",
     "iopub.status.idle": "2022-08-26T18:17:55.335324Z",
     "shell.execute_reply": "2022-08-26T18:17:55.334200Z"
    },
    "papermill": {
     "duration": 0.016894,
     "end_time": "2022-08-26T18:17:55.338003",
     "exception": false,
     "start_time": "2022-08-26T18:17:55.321109",
     "status": "completed"
    },
    "tags": []
   },
   "outputs": [],
   "source": [
    "# splitting train and test data\n",
    "X_train, X_test, y_train, y_test = train_test_split(X, Y, test_size=0.3, random_state=1)"
   ]
  },
  {
   "cell_type": "code",
   "execution_count": 7,
   "id": "16dd35d5",
   "metadata": {
    "execution": {
     "iopub.execute_input": "2022-08-26T18:17:55.349625Z",
     "iopub.status.busy": "2022-08-26T18:17:55.348588Z",
     "iopub.status.idle": "2022-08-26T18:17:55.362856Z",
     "shell.execute_reply": "2022-08-26T18:17:55.361763Z"
    },
    "papermill": {
     "duration": 0.02224,
     "end_time": "2022-08-26T18:17:55.365009",
     "exception": false,
     "start_time": "2022-08-26T18:17:55.342769",
     "status": "completed"
    },
    "tags": []
   },
   "outputs": [
    {
     "name": "stderr",
     "output_type": "stream",
     "text": [
      "/opt/conda/lib/python3.7/site-packages/sklearn/neighbors/_classification.py:198: DataConversionWarning: A column-vector y was passed when a 1d array was expected. Please change the shape of y to (n_samples,), for example using ravel().\n",
      "  return self._fit(X, y)\n"
     ]
    }
   ],
   "source": [
    "# model\n",
    "k = 4\n",
    "# train model\n",
    "neigh = KNeighborsClassifier(n_neighbors = k)\n",
    "neigh.fit(X_train,y_train)\n",
    "# predict\n",
    "yhat = neigh.predict(X_test)"
   ]
  },
  {
   "cell_type": "code",
   "execution_count": 8,
   "id": "266c1b52",
   "metadata": {
    "execution": {
     "iopub.execute_input": "2022-08-26T18:17:55.376466Z",
     "iopub.status.busy": "2022-08-26T18:17:55.375858Z",
     "iopub.status.idle": "2022-08-26T18:17:55.389296Z",
     "shell.execute_reply": "2022-08-26T18:17:55.388121Z"
    },
    "papermill": {
     "duration": 0.021632,
     "end_time": "2022-08-26T18:17:55.391520",
     "exception": false,
     "start_time": "2022-08-26T18:17:55.369888",
     "status": "completed"
    },
    "tags": []
   },
   "outputs": [
    {
     "name": "stdout",
     "output_type": "stream",
     "text": [
      "Train set Accuracy:  0.7405660377358491\n",
      "Test set Accuracy:  0.6153846153846154\n"
     ]
    }
   ],
   "source": [
    "# analyzing the output\n",
    "print(\"Train set Accuracy: \", metrics.accuracy_score(y_train, neigh.predict(X_train)))\n",
    "print(\"Test set Accuracy: \", metrics.accuracy_score(y_test, yhat))"
   ]
  },
  {
   "cell_type": "markdown",
   "id": "5acd6c9c",
   "metadata": {
    "papermill": {
     "duration": 0.004621,
     "end_time": "2022-08-26T18:17:55.401044",
     "exception": false,
     "start_time": "2022-08-26T18:17:55.396423",
     "status": "completed"
    },
    "tags": []
   },
   "source": [
    "It seems the KNN is not a good predictor!"
   ]
  },
  {
   "cell_type": "code",
   "execution_count": 9,
   "id": "3f9ac7ed",
   "metadata": {
    "execution": {
     "iopub.execute_input": "2022-08-26T18:17:55.412371Z",
     "iopub.status.busy": "2022-08-26T18:17:55.411737Z",
     "iopub.status.idle": "2022-08-26T18:17:55.424033Z",
     "shell.execute_reply": "2022-08-26T18:17:55.422622Z"
    },
    "papermill": {
     "duration": 0.02044,
     "end_time": "2022-08-26T18:17:55.426295",
     "exception": false,
     "start_time": "2022-08-26T18:17:55.405855",
     "status": "completed"
    },
    "tags": []
   },
   "outputs": [
    {
     "name": "stderr",
     "output_type": "stream",
     "text": [
      "/opt/conda/lib/python3.7/site-packages/sklearn/utils/validation.py:993: DataConversionWarning: A column-vector y was passed when a 1d array was expected. Please change the shape of y to (n_samples, ), for example using ravel().\n",
      "  y = column_or_1d(y, warn=True)\n"
     ]
    }
   ],
   "source": [
    "# train logistic regression\n",
    "LR = LogisticRegression(C=0.1, solver='saga')\n",
    "LR.fit(X_train,y_train)\n",
    "\n",
    "# predict using LR\n",
    "yhat_lr = LR.predict(X_test)"
   ]
  },
  {
   "cell_type": "code",
   "execution_count": 10,
   "id": "36b5f6f1",
   "metadata": {
    "execution": {
     "iopub.execute_input": "2022-08-26T18:17:55.438539Z",
     "iopub.status.busy": "2022-08-26T18:17:55.437636Z",
     "iopub.status.idle": "2022-08-26T18:17:55.454057Z",
     "shell.execute_reply": "2022-08-26T18:17:55.452598Z"
    },
    "papermill": {
     "duration": 0.026058,
     "end_time": "2022-08-26T18:17:55.457238",
     "exception": false,
     "start_time": "2022-08-26T18:17:55.431180",
     "status": "completed"
    },
    "tags": []
   },
   "outputs": [
    {
     "name": "stdout",
     "output_type": "stream",
     "text": [
      "[[37 13]\n",
      " [17 24]]\n"
     ]
    }
   ],
   "source": [
    "def plot_confusion_matrix(cm, classes,\n",
    "                          normalize=False,\n",
    "                          title='Confusion matrix',\n",
    "                          cmap=plt.cm.Blues):\n",
    "    \"\"\"\n",
    "    This function prints and plots the confusion matrix.\n",
    "    Normalization can be applied by setting `normalize=True`.\n",
    "    \"\"\"\n",
    "    if normalize:\n",
    "        cm = cm.astype('float') / cm.sum(axis=1)[:, np.newaxis]\n",
    "        print(\"Normalized confusion matrix\")\n",
    "    else:\n",
    "        print('Confusion matrix, without normalization')\n",
    "\n",
    "    print(cm)\n",
    "\n",
    "    plt.imshow(cm, interpolation='nearest', cmap=cmap)\n",
    "    plt.title(title)\n",
    "    plt.colorbar()\n",
    "    tick_marks = np.arange(len(classes))\n",
    "    plt.xticks(tick_marks, classes, rotation=45)\n",
    "    plt.yticks(tick_marks, classes)\n",
    "\n",
    "    fmt = '.2f' if normalize else 'd'\n",
    "    thresh = cm.max() / 2.\n",
    "    for i, j in itertools.product(range(cm.shape[0]), range(cm.shape[1])):\n",
    "        plt.text(j, i, format(cm[i, j], fmt),\n",
    "                 horizontalalignment=\"center\",\n",
    "                 color=\"white\" if cm[i, j] > thresh else \"black\")\n",
    "\n",
    "    plt.tight_layout()\n",
    "    plt.ylabel('True label')\n",
    "    plt.xlabel('Predicted label')\n",
    "print(confusion_matrix(y_test, yhat_lr, labels=[1,0]))"
   ]
  },
  {
   "cell_type": "code",
   "execution_count": 11,
   "id": "32cd827f",
   "metadata": {
    "execution": {
     "iopub.execute_input": "2022-08-26T18:17:55.469846Z",
     "iopub.status.busy": "2022-08-26T18:17:55.469171Z",
     "iopub.status.idle": "2022-08-26T18:17:55.725941Z",
     "shell.execute_reply": "2022-08-26T18:17:55.724774Z"
    },
    "papermill": {
     "duration": 0.265818,
     "end_time": "2022-08-26T18:17:55.728644",
     "exception": false,
     "start_time": "2022-08-26T18:17:55.462826",
     "status": "completed"
    },
    "tags": []
   },
   "outputs": [
    {
     "name": "stdout",
     "output_type": "stream",
     "text": [
      "Confusion matrix, without normalization\n",
      "[[37 13]\n",
      " [17 24]]\n",
      "Train set Accuracy:  0.6556603773584906\n",
      "Test set Accuracy:  0.6703296703296703\n"
     ]
    },
    {
     "data": {
      "image/png": "[encoded data removed]",
      "text/plain": [
       "<Figure size 432x288 with 2 Axes>"
      ]
     },
     "metadata": {
      "needs_background": "light"
     },
     "output_type": "display_data"
    }
   ],
   "source": [
    "# Compute confusion matrix\n",
    "cnf_matrix = confusion_matrix(y_test, yhat_lr, labels=[1,0])\n",
    "np.set_printoptions(precision=2)\n",
    "\n",
    "\n",
    "# Plot non-normalized confusion matrix\n",
    "plt.figure()\n",
    "plot_confusion_matrix(cnf_matrix, classes=['heart=1','heart=0'],normalize= False,  title='Confusion matrix')\n",
    "\n",
    "print(\"Train set Accuracy: \", metrics.accuracy_score(y_train, LR.predict(X_train)))\n",
    "print(\"Test set Accuracy: \", metrics.accuracy_score(y_test, yhat_lr))"
   ]
  },
  {
   "cell_type": "markdown",
   "id": "9506200a",
   "metadata": {
    "papermill": {
     "duration": 0.005328,
     "end_time": "2022-08-26T18:17:55.739949",
     "exception": false,
     "start_time": "2022-08-26T18:17:55.734621",
     "status": "completed"
    },
    "tags": []
   },
   "source": [
    "It may be a good idea to test a SVM model"
   ]
  },
  {
   "cell_type": "code",
   "execution_count": 12,
   "id": "02ff0c18",
   "metadata": {
    "execution": {
     "iopub.execute_input": "2022-08-26T18:17:55.753939Z",
     "iopub.status.busy": "2022-08-26T18:17:55.753497Z",
     "iopub.status.idle": "2022-08-26T18:17:55.762391Z",
     "shell.execute_reply": "2022-08-26T18:17:55.761053Z"
    },
    "papermill": {
     "duration": 0.018704,
     "end_time": "2022-08-26T18:17:55.764629",
     "exception": false,
     "start_time": "2022-08-26T18:17:55.745925",
     "status": "completed"
    },
    "tags": []
   },
   "outputs": [
    {
     "name": "stderr",
     "output_type": "stream",
     "text": [
      "/opt/conda/lib/python3.7/site-packages/sklearn/utils/validation.py:993: DataConversionWarning: A column-vector y was passed when a 1d array was expected. Please change the shape of y to (n_samples, ), for example using ravel().\n",
      "  y = column_or_1d(y, warn=True)\n"
     ]
    }
   ],
   "source": [
    "# train the model\n",
    "clf = svm.SVC(C=0.1, kernel='linear')\n",
    "clf.fit(X_train, y_train) \n",
    "\n",
    "# predict\n",
    "yhat_svm = clf.predict(X_test)"
   ]
  },
  {
   "cell_type": "code",
   "execution_count": 13,
   "id": "ad902ca0",
   "metadata": {
    "execution": {
     "iopub.execute_input": "2022-08-26T18:17:55.778244Z",
     "iopub.status.busy": "2022-08-26T18:17:55.777497Z",
     "iopub.status.idle": "2022-08-26T18:17:55.784798Z",
     "shell.execute_reply": "2022-08-26T18:17:55.783705Z"
    },
    "papermill": {
     "duration": 0.016853,
     "end_time": "2022-08-26T18:17:55.787199",
     "exception": false,
     "start_time": "2022-08-26T18:17:55.770346",
     "status": "completed"
    },
    "tags": []
   },
   "outputs": [
    {
     "name": "stdout",
     "output_type": "stream",
     "text": [
      "Test set Accuracy of SVM:  0.6593406593406593\n",
      "Test set Accuracy of LR:  0.6703296703296703\n",
      "Test set Accuracy of KNN:  0.6153846153846154\n"
     ]
    }
   ],
   "source": [
    "print(\"Test set Accuracy of SVM: \", metrics.accuracy_score(y_test, yhat_svm))\n",
    "print(\"Test set Accuracy of LR: \", metrics.accuracy_score(y_test, yhat_lr))\n",
    "print(\"Test set Accuracy of KNN: \", metrics.accuracy_score(y_test, yhat))"
   ]
  },
  {
   "cell_type": "code",
   "execution_count": null,
   "id": "d094438a",
   "metadata": {
    "papermill": {
     "duration": 0.006438,
     "end_time": "2022-08-26T18:17:55.799495",
     "exception": false,
     "start_time": "2022-08-26T18:17:55.793057",
     "status": "completed"
    },
    "tags": []
   },
   "outputs": [],
   "source": []
  }
 ],
 "metadata": {
  "kernelspec": {
   "display_name": "Python 3",
   "language": "python",
   "name": "python3"
  },
  "language_info": {
   "codemirror_mode": {
    "name": "ipython",
    "version": 3
   },
   "file_extension": ".py",
   "mimetype": "text/x-python",
   "name": "python",
   "nbconvert_exporter": "python",
   "pygments_lexer": "ipython3",
   "version": "3.7.12"
  },
  "papermill": {
   "default_parameters": {},
   "duration": 12.870122,
   "end_time": "2022-08-26T18:17:56.528515",
   "environment_variables": {},
   "exception": null,
   "input_path": "__notebook__.ipynb",
   "output_path": "__notebook__.ipynb",
   "parameters": {},
   "start_time": "2022-08-26T18:17:43.658393",
   "version": "2.3.4"
  }
 },
 "nbformat": 4,
 "nbformat_minor": 5
}
